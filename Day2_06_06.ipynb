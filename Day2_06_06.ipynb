{
  "nbformat": 4,
  "nbformat_minor": 0,
  "metadata": {
    "colab": {
      "provenance": [],
      "authorship_tag": "ABX9TyNj7l/mrWPKadi4dZV2KVTu",
      "include_colab_link": true
    },
    "kernelspec": {
      "name": "python3",
      "display_name": "Python 3"
    },
    "language_info": {
      "name": "python"
    }
  },
  "cells": [
    {
      "cell_type": "markdown",
      "metadata": {
        "id": "view-in-github",
        "colab_type": "text"
      },
      "source": [
        "<a href=\"https://colab.research.google.com/github/arjun-g-19/ArjunGaikwad_AIMLBootcamp_Genzeon_2023/blob/main/Day2_06_06.ipynb\" target=\"_parent\"><img src=\"https://colab.research.google.com/assets/colab-badge.svg\" alt=\"Open In Colab\"/></a>"
      ]
    },
    {
      "cell_type": "code",
      "execution_count": 48,
      "metadata": {
        "colab": {
          "base_uri": "https://localhost:8080/"
        },
        "id": "pd275VGkTNW8",
        "outputId": "3c5db36e-82b6-4b40-9cd2-14cc2adcc299"
      },
      "outputs": [
        {
          "output_type": "stream",
          "name": "stdout",
          "text": [
            "John\n"
          ]
        }
      ],
      "source": [
        "#Implementing String methods\n",
        "first_name = \"Johnathan\"\n",
        "last_name = \"Doe\"\n",
        "cities = [\"New York\", \"London\",\"Abu Dhabi\",\"Beijing\"]\n",
        "message = \"John Doe has travelled the whole world\"\n",
        "age = 30\n",
        "phone = 9876543\n",
        "\n",
        "#slicing\n",
        "part = first_name[0:4]\n",
        "print(part)\n"
      ]
    },
    {
      "cell_type": "code",
      "source": [
        "#Modify Strings\n",
        "upper_name = (first_name +\" \"+ last_name).upper()\n",
        "print(upper_name)"
      ],
      "metadata": {
        "colab": {
          "base_uri": "https://localhost:8080/"
        },
        "id": "lopbGlYkV2QT",
        "outputId": "79c646d5-b198-412c-fa3d-9b1b8e8f44d7"
      },
      "execution_count": 5,
      "outputs": [
        {
          "output_type": "stream",
          "name": "stdout",
          "text": [
            "JOHNATHAN DOE\n"
          ]
        }
      ]
    },
    {
      "cell_type": "code",
      "source": [
        "upper_name = upper_name.append(\"  \")"
      ],
      "metadata": {
        "colab": {
          "base_uri": "https://localhost:8080/",
          "height": 165
        },
        "id": "m412RXwlXBWI",
        "outputId": "2235d90b-c4b2-4f32-a734-ed7172a7a059"
      },
      "execution_count": 6,
      "outputs": [
        {
          "output_type": "error",
          "ename": "AttributeError",
          "evalue": "ignored",
          "traceback": [
            "\u001b[0;31m---------------------------------------------------------------------------\u001b[0m",
            "\u001b[0;31mAttributeError\u001b[0m                            Traceback (most recent call last)",
            "\u001b[0;32m<ipython-input-6-1d576f7a627d>\u001b[0m in \u001b[0;36m<cell line: 1>\u001b[0;34m()\u001b[0m\n\u001b[0;32m----> 1\u001b[0;31m \u001b[0mupper_name\u001b[0m \u001b[0;34m=\u001b[0m \u001b[0mupper_name\u001b[0m\u001b[0;34m.\u001b[0m\u001b[0mappend\u001b[0m\u001b[0;34m(\u001b[0m\u001b[0;34m\"  \"\u001b[0m\u001b[0;34m)\u001b[0m\u001b[0;34m\u001b[0m\u001b[0;34m\u001b[0m\u001b[0m\n\u001b[0m",
            "\u001b[0;31mAttributeError\u001b[0m: 'str' object has no attribute 'append'"
          ]
        }
      ]
    },
    {
      "cell_type": "code",
      "source": [
        "spaced_name = \" \" + upper_name + \" \""
      ],
      "metadata": {
        "id": "1PCXQWgMXcGt"
      },
      "execution_count": 7,
      "outputs": []
    },
    {
      "cell_type": "code",
      "source": [
        "print(spaced_name  ,len(spaced_name))"
      ],
      "metadata": {
        "colab": {
          "base_uri": "https://localhost:8080/"
        },
        "id": "JdrYnC5IX1p3",
        "outputId": "6287f0f0-d4fc-4642-b76d-fecc6d568d0c"
      },
      "execution_count": 12,
      "outputs": [
        {
          "output_type": "stream",
          "name": "stdout",
          "text": [
            " JOHNATHAN DOE  15\n"
          ]
        }
      ]
    },
    {
      "cell_type": "code",
      "source": [
        "unspaced_name = spaced_name.strip()\n",
        "print(unspaced_name, len(unspaced_name))"
      ],
      "metadata": {
        "colab": {
          "base_uri": "https://localhost:8080/"
        },
        "id": "FUTgDIQpX4Nd",
        "outputId": "dddda11f-9b58-4dc6-c06b-263773d0a24b"
      },
      "execution_count": 14,
      "outputs": [
        {
          "output_type": "stream",
          "name": "stdout",
          "text": [
            "JOHNATHAN DOE 13\n"
          ]
        }
      ]
    },
    {
      "cell_type": "code",
      "source": [
        "#String Format\n",
        "info = \"{} {} has travelled the world and is {} years of age\"\n",
        "print(info.format(first_name, last_name, age))"
      ],
      "metadata": {
        "colab": {
          "base_uri": "https://localhost:8080/"
        },
        "id": "CGfcvPJBX9uk",
        "outputId": "483462df-b3b1-457b-9cfc-9e442f846d7c"
      },
      "execution_count": 15,
      "outputs": [
        {
          "output_type": "stream",
          "name": "stdout",
          "text": [
            "Johnathan Doe has travelled the world and is 30 years of age\n"
          ]
        }
      ]
    },
    {
      "cell_type": "code",
      "source": [
        "print(f'{first_name} {last_name} has travelled the world and is just {age} years old')"
      ],
      "metadata": {
        "colab": {
          "base_uri": "https://localhost:8080/"
        },
        "id": "xKEEjyE3ZVYN",
        "outputId": "927abac6-e024-4422-b1ec-76069778aae2"
      },
      "execution_count": 16,
      "outputs": [
        {
          "output_type": "stream",
          "name": "stdout",
          "text": [
            "Johnathan Doe has travelled the world and is just 30 years old\n"
          ]
        }
      ]
    },
    {
      "cell_type": "code",
      "source": [
        "print(first_name, last_name,\" has travelled the world and is just \",age,\" years old\")"
      ],
      "metadata": {
        "colab": {
          "base_uri": "https://localhost:8080/"
        },
        "id": "_DSgjv6laBYU",
        "outputId": "1ccaf6ba-0394-4bb8-aa8c-cbb296db3744"
      },
      "execution_count": 17,
      "outputs": [
        {
          "output_type": "stream",
          "name": "stdout",
          "text": [
            "Johnathan Doe  has travelled the world and is just  30  years old\n"
          ]
        }
      ]
    },
    {
      "cell_type": "code",
      "source": [
        "message.replace(\" \",\"\\r\")\n",
        "print(message)"
      ],
      "metadata": {
        "colab": {
          "base_uri": "https://localhost:8080/"
        },
        "id": "1wLoCuWGaNMZ",
        "outputId": "5d395f68-f52b-4805-cc6a-ad50ca44fb52"
      },
      "execution_count": 18,
      "outputs": [
        {
          "output_type": "stream",
          "name": "stdout",
          "text": [
            "John Doe has travelled the whole world\n"
          ]
        }
      ]
    },
    {
      "cell_type": "code",
      "source": [
        "print(message.replace(\" \",\"\\n\\r\"))"
      ],
      "metadata": {
        "colab": {
          "base_uri": "https://localhost:8080/"
        },
        "id": "oxNp7L3Yaywr",
        "outputId": "195baedd-dfe3-43fa-a150-342a24a36093"
      },
      "execution_count": 22,
      "outputs": [
        {
          "output_type": "stream",
          "name": "stdout",
          "text": [
            "John\n",
            "\rDoe\n",
            "\rhas\n",
            "\rtravelled\n",
            "\rthe\n",
            "\rwhole\n",
            "\rworld\n"
          ]
        }
      ]
    },
    {
      "cell_type": "code",
      "source": [
        "print(message.center(50,\"*\"))"
      ],
      "metadata": {
        "colab": {
          "base_uri": "https://localhost:8080/"
        },
        "id": "hoOMSpSga-KD",
        "outputId": "5ff4826a-b6ca-4be0-cef9-db67d6d00dfd"
      },
      "execution_count": 28,
      "outputs": [
        {
          "output_type": "stream",
          "name": "stdout",
          "text": [
            "******John Doe has travelled the whole world******\n"
          ]
        }
      ]
    },
    {
      "cell_type": "code",
      "source": [
        "print(message.count(\"world\",0,15))"
      ],
      "metadata": {
        "colab": {
          "base_uri": "https://localhost:8080/"
        },
        "id": "tJtwDBHOcAi6",
        "outputId": "aa436cbe-ecda-4421-bf69-9361a9c8bd50"
      },
      "execution_count": 31,
      "outputs": [
        {
          "output_type": "stream",
          "name": "stdout",
          "text": [
            "0\n"
          ]
        }
      ]
    },
    {
      "cell_type": "code",
      "source": [
        "print(message.encode(encoding=\"ascii\",errors = \"replace\"))"
      ],
      "metadata": {
        "colab": {
          "base_uri": "https://localhost:8080/"
        },
        "id": "rv33Wl42dEMP",
        "outputId": "ff589953-12f9-4392-8885-2eeb27f72e5c"
      },
      "execution_count": 32,
      "outputs": [
        {
          "output_type": "stream",
          "name": "stdout",
          "text": [
            "b'John Doe has travelled the whole world'\n"
          ]
        }
      ]
    },
    {
      "cell_type": "code",
      "source": [
        "print(\"!@#$%*&()BHVDESARWA  \".encode(encoding='ascii',errors='replace'))"
      ],
      "metadata": {
        "colab": {
          "base_uri": "https://localhost:8080/"
        },
        "id": "hj2Ax8KLdxTv",
        "outputId": "6c365581-c169-4c29-8c72-242f5dd3af1f"
      },
      "execution_count": 33,
      "outputs": [
        {
          "output_type": "stream",
          "name": "stdout",
          "text": [
            "b'!@#$%*&()BHVDESARWA  '\n"
          ]
        }
      ]
    },
    {
      "cell_type": "code",
      "source": [
        "position = message.find(\"world\")\n",
        "\n",
        "if position > 0:\n",
        "  print(position)\n",
        "  print(message.replace(\"world\",\"WORLD\"))\n"
      ],
      "metadata": {
        "colab": {
          "base_uri": "https://localhost:8080/"
        },
        "id": "H6dRzqiyeJxb",
        "outputId": "9ba76c3b-3475-4b58-d712-4cbf2482bda3"
      },
      "execution_count": 44,
      "outputs": [
        {
          "output_type": "stream",
          "name": "stdout",
          "text": [
            "33\n",
            "John Doe has travelled the whole WORLD\n"
          ]
        }
      ]
    },
    {
      "cell_type": "code",
      "source": [
        "if \"9766381183\".isdigit():\n",
        "  print(\"Valid Phone Number\")\n",
        "else:\n",
        "  print(\"Invalid Phone Number\")\n"
      ],
      "metadata": {
        "colab": {
          "base_uri": "https://localhost:8080/"
        },
        "id": "khXgyu2OfMhB",
        "outputId": "bfebe125-00f1-4e27-d987-e9aacccbb111"
      },
      "execution_count": 45,
      "outputs": [
        {
          "output_type": "stream",
          "name": "stdout",
          "text": [
            "Valid Phone Number\n"
          ]
        }
      ]
    },
    {
      "cell_type": "code",
      "source": [
        "# List to string\n",
        "all_cities = cities.join()\n",
        "print(all_cities)"
      ],
      "metadata": {
        "colab": {
          "base_uri": "https://localhost:8080/",
          "height": 200
        },
        "id": "JM2Mo4EUhBM9",
        "outputId": "5fa9e883-c68b-4f5c-f163-26791ac06b50"
      },
      "execution_count": 46,
      "outputs": [
        {
          "output_type": "error",
          "ename": "AttributeError",
          "evalue": "ignored",
          "traceback": [
            "\u001b[0;31m---------------------------------------------------------------------------\u001b[0m",
            "\u001b[0;31mAttributeError\u001b[0m                            Traceback (most recent call last)",
            "\u001b[0;32m<ipython-input-46-ff4df58b37ea>\u001b[0m in \u001b[0;36m<cell line: 2>\u001b[0;34m()\u001b[0m\n\u001b[1;32m      1\u001b[0m \u001b[0;31m# List to string\u001b[0m\u001b[0;34m\u001b[0m\u001b[0;34m\u001b[0m\u001b[0m\n\u001b[0;32m----> 2\u001b[0;31m \u001b[0mall_cities\u001b[0m \u001b[0;34m=\u001b[0m \u001b[0mcities\u001b[0m\u001b[0;34m.\u001b[0m\u001b[0mjoin\u001b[0m\u001b[0;34m(\u001b[0m\u001b[0;34m)\u001b[0m\u001b[0;34m\u001b[0m\u001b[0;34m\u001b[0m\u001b[0m\n\u001b[0m\u001b[1;32m      3\u001b[0m \u001b[0mprint\u001b[0m\u001b[0;34m(\u001b[0m\u001b[0mall_cities\u001b[0m\u001b[0;34m)\u001b[0m\u001b[0;34m\u001b[0m\u001b[0;34m\u001b[0m\u001b[0m\n",
            "\u001b[0;31mAttributeError\u001b[0m: 'list' object has no attribute 'join'"
          ]
        }
      ]
    },
    {
      "cell_type": "code",
      "source": [
        "all_cities = \", \".join(cities)\n",
        "print(all_cities)"
      ],
      "metadata": {
        "colab": {
          "base_uri": "https://localhost:8080/"
        },
        "id": "lik5KmUShY9e",
        "outputId": "85074f25-7aaa-4781-a826-4be69a6cfcd9"
      },
      "execution_count": 52,
      "outputs": [
        {
          "output_type": "stream",
          "name": "stdout",
          "text": [
            "New York, London, Abu Dhabi, Beijing\n"
          ]
        }
      ]
    },
    {
      "cell_type": "code",
      "source": [
        "print(f\"{first_name} {last_name} has travelled the whole world including cities like\",\", \".join(cities))"
      ],
      "metadata": {
        "colab": {
          "base_uri": "https://localhost:8080/"
        },
        "id": "TmpUZqQmiI5R",
        "outputId": "20e0787d-dc6d-4299-f028-31add8d8d055"
      },
      "execution_count": 55,
      "outputs": [
        {
          "output_type": "stream",
          "name": "stdout",
          "text": [
            "Johnathan Doe has travelled the whole world including cities like New York, London, Abu Dhabi, Beijing\n"
          ]
        }
      ]
    },
    {
      "cell_type": "code",
      "source": [
        "#maketrans() method\n",
        "info = \"Mr. Doe has total wealth of # million dollars\"\n",
        "my_table = str.maketrans(\"#\",\"2\")\n",
        "print(info.translate(my_table)) "
      ],
      "metadata": {
        "colab": {
          "base_uri": "https://localhost:8080/"
        },
        "id": "ktwvvXeZi_96",
        "outputId": "bcbb2ba5-6893-47eb-c217-599380d24012"
      },
      "execution_count": 57,
      "outputs": [
        {
          "output_type": "stream",
          "name": "stdout",
          "text": [
            "Mr. Doe has total wealth of 2 million dollars\n"
          ]
        }
      ]
    },
    {
      "cell_type": "code",
      "source": [
        "print(\"Mr Nolan has # sons\".translate(my_table))"
      ],
      "metadata": {
        "colab": {
          "base_uri": "https://localhost:8080/"
        },
        "id": "huvIhMbJkAqr",
        "outputId": "33261323-6d11-4987-a32d-735927f62f99"
      },
      "execution_count": 58,
      "outputs": [
        {
          "output_type": "stream",
          "name": "stdout",
          "text": [
            "Mr Nolan has 2 sons\n"
          ]
        }
      ]
    },
    {
      "cell_type": "code",
      "source": [
        "full_name = \"Shubham Mhaske\"\n",
        "my_table = str.maketrans(\"aeiouAEIOU\",\"**********\",\"V\")\n",
        "print(full_name.translate(my_table))"
      ],
      "metadata": {
        "colab": {
          "base_uri": "https://localhost:8080/"
        },
        "id": "0zojy0MhkYZ6",
        "outputId": "ed62bd46-17f9-4b39-e05e-3c3bc7699d3b"
      },
      "execution_count": 60,
      "outputs": [
        {
          "output_type": "stream",
          "name": "stdout",
          "text": [
            "Sh*bh*m Mh*sk*\n"
          ]
        }
      ]
    },
    {
      "cell_type": "code",
      "source": [
        "print(info)"
      ],
      "metadata": {
        "colab": {
          "base_uri": "https://localhost:8080/"
        },
        "id": "l9EGJN6emZ6e",
        "outputId": "1b5cc9da-a826-4e37-d9e5-b206e81009f9"
      },
      "execution_count": 61,
      "outputs": [
        {
          "output_type": "stream",
          "name": "stdout",
          "text": [
            "Mr. Doe has total wealth of # million dollars\n"
          ]
        }
      ]
    },
    {
      "cell_type": "code",
      "source": [
        "print(info.partition(\"wealth\"))"
      ],
      "metadata": {
        "colab": {
          "base_uri": "https://localhost:8080/"
        },
        "id": "frlMPANQnlBn",
        "outputId": "4e4ce9bd-8321-4c44-a49c-7360ae7cf4d7"
      },
      "execution_count": 62,
      "outputs": [
        {
          "output_type": "stream",
          "name": "stdout",
          "text": [
            "('Mr. Doe has total ', 'wealth', ' of # million dollars')\n"
          ]
        }
      ]
    },
    {
      "cell_type": "code",
      "source": [
        "#List Methods\n",
        "colors = [\"red\",\"violet\",\"green\",\"orange\",\"blue\",\"indigo\",\"yellow\"]\n",
        "print(len(colors))\n",
        "colors"
      ],
      "metadata": {
        "colab": {
          "base_uri": "https://localhost:8080/"
        },
        "id": "_28jaWVq2J1Q",
        "outputId": "04008cc6-9a0f-48e9-e04c-77ab97511629"
      },
      "execution_count": 63,
      "outputs": [
        {
          "output_type": "stream",
          "name": "stdout",
          "text": [
            "7\n"
          ]
        },
        {
          "output_type": "execute_result",
          "data": {
            "text/plain": [
              "['red', 'violet', 'green', 'orange', 'blue', 'indigo', 'yellow']"
            ]
          },
          "metadata": {},
          "execution_count": 63
        }
      ]
    },
    {
      "cell_type": "code",
      "source": [
        "colors.extend([\"are\",\"the\",\"colors\",\"of\",\"rainbow\"])"
      ],
      "metadata": {
        "id": "5AAK1ixZ3gLm"
      },
      "execution_count": 67,
      "outputs": []
    },
    {
      "cell_type": "code",
      "source": [
        "colors"
      ],
      "metadata": {
        "colab": {
          "base_uri": "https://localhost:8080/"
        },
        "id": "mfkgMxv83zvZ",
        "outputId": "90a5e1da-4426-4a50-cf40-eb9d261689fe"
      },
      "execution_count": 65,
      "outputs": [
        {
          "output_type": "execute_result",
          "data": {
            "text/plain": [
              "['red',\n",
              " 'violet',\n",
              " 'green',\n",
              " 'orange',\n",
              " 'blue',\n",
              " 'indigo',\n",
              " 'yellow',\n",
              " 'are',\n",
              " 'the',\n",
              " 'colors',\n",
              " 'of',\n",
              " 'rainbow']"
            ]
          },
          "metadata": {},
          "execution_count": 65
        }
      ]
    },
    {
      "cell_type": "code",
      "source": [
        "print(colors.reverse())"
      ],
      "metadata": {
        "colab": {
          "base_uri": "https://localhost:8080/"
        },
        "id": "BtHPkSaj31D-",
        "outputId": "48972101-cbdb-469e-8507-bff78403d2f1"
      },
      "execution_count": 68,
      "outputs": [
        {
          "output_type": "stream",
          "name": "stdout",
          "text": [
            "None\n"
          ]
        }
      ]
    },
    {
      "cell_type": "code",
      "source": [
        "colors"
      ],
      "metadata": {
        "colab": {
          "base_uri": "https://localhost:8080/"
        },
        "id": "OmHmI1-W4Kpv",
        "outputId": "eac03c39-ea4c-4d1e-91bc-f7fa21924cc2"
      },
      "execution_count": 69,
      "outputs": [
        {
          "output_type": "execute_result",
          "data": {
            "text/plain": [
              "['rainbow',\n",
              " 'of',\n",
              " 'colors',\n",
              " 'the',\n",
              " 'are',\n",
              " 'rainbow',\n",
              " 'of',\n",
              " 'colors',\n",
              " 'the',\n",
              " 'are',\n",
              " 'yellow',\n",
              " 'indigo',\n",
              " 'blue',\n",
              " 'orange',\n",
              " 'green',\n",
              " 'violet',\n",
              " 'red']"
            ]
          },
          "metadata": {},
          "execution_count": 69
        }
      ]
    },
    {
      "cell_type": "code",
      "source": [
        "import random\n",
        "number = random.randint(0,9)\n",
        "user_input = -1\n",
        "flag = True\n",
        "while number != user_input and flag == True:\n",
        "  user_input = int(input(\"Enter a number:-\"))\n",
        "  if number == user_input:\n",
        "    flag = False"
      ],
      "metadata": {
        "colab": {
          "base_uri": "https://localhost:8080/",
          "height": 536
        },
        "id": "Ubd6_kSf4M3s",
        "outputId": "afc51f46-cc98-4af3-ce77-a61eb707cd89"
      },
      "execution_count": 73,
      "outputs": [
        {
          "name": "stdout",
          "output_type": "stream",
          "text": [
            "Enter a number:-1\n",
            "Enter a number:-2\n",
            "Enter a number:-3\n",
            "Enter a number:-4\n",
            "Enter a number:-5\n",
            "Enter a number:-6\n",
            "Enter a number:-7\n",
            "Enter a number:-8\n",
            "Enter a number:-9\n"
          ]
        },
        {
          "output_type": "error",
          "ename": "KeyboardInterrupt",
          "evalue": "ignored",
          "traceback": [
            "\u001b[0;31m---------------------------------------------------------------------------\u001b[0m",
            "\u001b[0;31mKeyboardInterrupt\u001b[0m                         Traceback (most recent call last)",
            "\u001b[0;32m<ipython-input-73-919b3e3bdfb4>\u001b[0m in \u001b[0;36m<cell line: 5>\u001b[0;34m()\u001b[0m\n\u001b[1;32m      4\u001b[0m \u001b[0mflag\u001b[0m \u001b[0;34m=\u001b[0m \u001b[0;32mTrue\u001b[0m\u001b[0;34m\u001b[0m\u001b[0;34m\u001b[0m\u001b[0m\n\u001b[1;32m      5\u001b[0m \u001b[0;32mwhile\u001b[0m \u001b[0mnumber\u001b[0m \u001b[0;34m!=\u001b[0m \u001b[0muser_input\u001b[0m \u001b[0;32mand\u001b[0m \u001b[0mflag\u001b[0m \u001b[0;34m==\u001b[0m \u001b[0;32mTrue\u001b[0m\u001b[0;34m:\u001b[0m\u001b[0;34m\u001b[0m\u001b[0;34m\u001b[0m\u001b[0m\n\u001b[0;32m----> 6\u001b[0;31m   \u001b[0muser_input\u001b[0m \u001b[0;34m=\u001b[0m \u001b[0mint\u001b[0m\u001b[0;34m(\u001b[0m\u001b[0minput\u001b[0m\u001b[0;34m(\u001b[0m\u001b[0;34m\"Enter a number:-\"\u001b[0m\u001b[0;34m)\u001b[0m\u001b[0;34m)\u001b[0m\u001b[0;34m\u001b[0m\u001b[0;34m\u001b[0m\u001b[0m\n\u001b[0m\u001b[1;32m      7\u001b[0m   \u001b[0;32mif\u001b[0m \u001b[0mnumber\u001b[0m \u001b[0;34m==\u001b[0m \u001b[0muser_input\u001b[0m\u001b[0;34m:\u001b[0m\u001b[0;34m\u001b[0m\u001b[0;34m\u001b[0m\u001b[0m\n\u001b[1;32m      8\u001b[0m     \u001b[0mflag\u001b[0m \u001b[0;34m=\u001b[0m \u001b[0;32mFalse\u001b[0m\u001b[0;34m\u001b[0m\u001b[0;34m\u001b[0m\u001b[0m\n",
            "\u001b[0;32m/usr/local/lib/python3.10/dist-packages/ipykernel/kernelbase.py\u001b[0m in \u001b[0;36mraw_input\u001b[0;34m(self, prompt)\u001b[0m\n\u001b[1;32m    849\u001b[0m                 \u001b[0;34m\"raw_input was called, but this frontend does not support input requests.\"\u001b[0m\u001b[0;34m\u001b[0m\u001b[0;34m\u001b[0m\u001b[0m\n\u001b[1;32m    850\u001b[0m             )\n\u001b[0;32m--> 851\u001b[0;31m         return self._input_request(str(prompt),\n\u001b[0m\u001b[1;32m    852\u001b[0m             \u001b[0mself\u001b[0m\u001b[0;34m.\u001b[0m\u001b[0m_parent_ident\u001b[0m\u001b[0;34m,\u001b[0m\u001b[0;34m\u001b[0m\u001b[0;34m\u001b[0m\u001b[0m\n\u001b[1;32m    853\u001b[0m             \u001b[0mself\u001b[0m\u001b[0;34m.\u001b[0m\u001b[0m_parent_header\u001b[0m\u001b[0;34m,\u001b[0m\u001b[0;34m\u001b[0m\u001b[0;34m\u001b[0m\u001b[0m\n",
            "\u001b[0;32m/usr/local/lib/python3.10/dist-packages/ipykernel/kernelbase.py\u001b[0m in \u001b[0;36m_input_request\u001b[0;34m(self, prompt, ident, parent, password)\u001b[0m\n\u001b[1;32m    893\u001b[0m             \u001b[0;32mexcept\u001b[0m \u001b[0mKeyboardInterrupt\u001b[0m\u001b[0;34m:\u001b[0m\u001b[0;34m\u001b[0m\u001b[0;34m\u001b[0m\u001b[0m\n\u001b[1;32m    894\u001b[0m                 \u001b[0;31m# re-raise KeyboardInterrupt, to truncate traceback\u001b[0m\u001b[0;34m\u001b[0m\u001b[0;34m\u001b[0m\u001b[0m\n\u001b[0;32m--> 895\u001b[0;31m                 \u001b[0;32mraise\u001b[0m \u001b[0mKeyboardInterrupt\u001b[0m\u001b[0;34m(\u001b[0m\u001b[0;34m\"Interrupted by user\"\u001b[0m\u001b[0;34m)\u001b[0m \u001b[0;32mfrom\u001b[0m \u001b[0;32mNone\u001b[0m\u001b[0;34m\u001b[0m\u001b[0;34m\u001b[0m\u001b[0m\n\u001b[0m\u001b[1;32m    896\u001b[0m             \u001b[0;32mexcept\u001b[0m \u001b[0mException\u001b[0m \u001b[0;32mas\u001b[0m \u001b[0me\u001b[0m\u001b[0;34m:\u001b[0m\u001b[0;34m\u001b[0m\u001b[0;34m\u001b[0m\u001b[0m\n\u001b[1;32m    897\u001b[0m                 \u001b[0mself\u001b[0m\u001b[0;34m.\u001b[0m\u001b[0mlog\u001b[0m\u001b[0;34m.\u001b[0m\u001b[0mwarning\u001b[0m\u001b[0;34m(\u001b[0m\u001b[0;34m\"Invalid Message:\"\u001b[0m\u001b[0;34m,\u001b[0m \u001b[0mexc_info\u001b[0m\u001b[0;34m=\u001b[0m\u001b[0;32mTrue\u001b[0m\u001b[0;34m)\u001b[0m\u001b[0;34m\u001b[0m\u001b[0;34m\u001b[0m\u001b[0m\n",
            "\u001b[0;31mKeyboardInterrupt\u001b[0m: Interrupted by user"
          ]
        }
      ]
    },
    {
      "cell_type": "code",
      "source": [
        "#tuples\n",
        "tup0=(1,2,3,4)\n",
        "tup1=(\"hi\",1.3,5)\n",
        "tup2 = (\"hello\",tup0,tup1)\n",
        "\n",
        "#indexing\n",
        "print(tup2[-3])"
      ],
      "metadata": {
        "colab": {
          "base_uri": "https://localhost:8080/"
        },
        "id": "sqeVOM5a6m-9",
        "outputId": "afed826c-be2d-4dc6-a565-f5993ce0fa18"
      },
      "execution_count": 74,
      "outputs": [
        {
          "output_type": "stream",
          "name": "stdout",
          "text": [
            "hello\n"
          ]
        }
      ]
    },
    {
      "cell_type": "code",
      "source": [
        "print(tup2[2][-1::-1])"
      ],
      "metadata": {
        "colab": {
          "base_uri": "https://localhost:8080/"
        },
        "id": "krvM4aNx8hgG",
        "outputId": "012048b6-dba9-4d1f-9505-38f1cd501a19"
      },
      "execution_count": 76,
      "outputs": [
        {
          "output_type": "stream",
          "name": "stdout",
          "text": [
            "(5, 1.3, 'hi')\n"
          ]
        }
      ]
    },
    {
      "cell_type": "code",
      "source": [
        "#tuple methods\n",
        "tup0.count(1)"
      ],
      "metadata": {
        "colab": {
          "base_uri": "https://localhost:8080/"
        },
        "id": "xWO2fUUe8rEj",
        "outputId": "69e9cb0f-4025-4b8f-e900-50b0ef582092"
      },
      "execution_count": 77,
      "outputs": [
        {
          "output_type": "execute_result",
          "data": {
            "text/plain": [
              "1"
            ]
          },
          "metadata": {},
          "execution_count": 77
        }
      ]
    },
    {
      "cell_type": "code",
      "source": [
        "print(max(tup0))"
      ],
      "metadata": {
        "colab": {
          "base_uri": "https://localhost:8080/"
        },
        "id": "1dA5cnDi871n",
        "outputId": "1cc66183-8398-4e81-f000-47466115fdd1"
      },
      "execution_count": 79,
      "outputs": [
        {
          "output_type": "stream",
          "name": "stdout",
          "text": [
            "4\n"
          ]
        }
      ]
    },
    {
      "cell_type": "code",
      "source": [
        "print(len(tup0))"
      ],
      "metadata": {
        "colab": {
          "base_uri": "https://localhost:8080/"
        },
        "id": "fgeEKYln9LoI",
        "outputId": "6e25f792-f676-4cc2-e492-bca842761a67"
      },
      "execution_count": 80,
      "outputs": [
        {
          "output_type": "stream",
          "name": "stdout",
          "text": [
            "4\n"
          ]
        }
      ]
    },
    {
      "cell_type": "code",
      "source": [
        "#Sets\n",
        "s1={1,3}\n",
        "s2={1,2,3,\"hi\",(1,2,3,4)}\n"
      ],
      "metadata": {
        "id": "Q1KSxqD69Zs8"
      },
      "execution_count": 81,
      "outputs": []
    },
    {
      "cell_type": "code",
      "source": [
        "s3 = set(s2)\n",
        "s3"
      ],
      "metadata": {
        "colab": {
          "base_uri": "https://localhost:8080/"
        },
        "id": "jRrYpO0J9phe",
        "outputId": "7ab83028-d13a-4e62-e79b-7d11608a4707"
      },
      "execution_count": 84,
      "outputs": [
        {
          "output_type": "execute_result",
          "data": {
            "text/plain": [
              "{(1, 2, 3, 4), 1, 2, 3, 'hi'}"
            ]
          },
          "metadata": {},
          "execution_count": 84
        }
      ]
    },
    {
      "cell_type": "code",
      "source": [
        "s1.update([2,3,4])"
      ],
      "metadata": {
        "id": "25hQvDBh9vSM"
      },
      "execution_count": 85,
      "outputs": []
    },
    {
      "cell_type": "code",
      "source": [
        "s1 #set is ordered"
      ],
      "metadata": {
        "colab": {
          "base_uri": "https://localhost:8080/"
        },
        "id": "6ZLz0jVm99nL",
        "outputId": "9428a71b-c84e-4453-a7bc-1a78db562112"
      },
      "execution_count": 86,
      "outputs": [
        {
          "output_type": "execute_result",
          "data": {
            "text/plain": [
              "{1, 2, 3, 4}"
            ]
          },
          "metadata": {},
          "execution_count": 86
        }
      ]
    },
    {
      "cell_type": "code",
      "source": [
        "s1.remove(1)"
      ],
      "metadata": {
        "id": "UFISOIms9-d5"
      },
      "execution_count": 87,
      "outputs": []
    },
    {
      "cell_type": "code",
      "source": [
        "s1"
      ],
      "metadata": {
        "colab": {
          "base_uri": "https://localhost:8080/"
        },
        "id": "_FSHgAIr-Iyu",
        "outputId": "9de875d4-c8ba-40d3-8ea1-fca96ccaccb7"
      },
      "execution_count": 88,
      "outputs": [
        {
          "output_type": "execute_result",
          "data": {
            "text/plain": [
              "{2, 3, 4}"
            ]
          },
          "metadata": {},
          "execution_count": 88
        }
      ]
    },
    {
      "cell_type": "code",
      "source": [
        "s1.find(1)"
      ],
      "metadata": {
        "colab": {
          "base_uri": "https://localhost:8080/",
          "height": 165
        },
        "id": "0f3-MAM9-KAZ",
        "outputId": "c32aa5b2-1917-468d-d0ea-749b7806e74d"
      },
      "execution_count": 89,
      "outputs": [
        {
          "output_type": "error",
          "ename": "AttributeError",
          "evalue": "ignored",
          "traceback": [
            "\u001b[0;31m---------------------------------------------------------------------------\u001b[0m",
            "\u001b[0;31mAttributeError\u001b[0m                            Traceback (most recent call last)",
            "\u001b[0;32m<ipython-input-89-527ed650faee>\u001b[0m in \u001b[0;36m<cell line: 1>\u001b[0;34m()\u001b[0m\n\u001b[0;32m----> 1\u001b[0;31m \u001b[0ms1\u001b[0m\u001b[0;34m.\u001b[0m\u001b[0mfind\u001b[0m\u001b[0;34m(\u001b[0m\u001b[0;36m1\u001b[0m\u001b[0;34m)\u001b[0m\u001b[0;34m\u001b[0m\u001b[0;34m\u001b[0m\u001b[0m\n\u001b[0m",
            "\u001b[0;31mAttributeError\u001b[0m: 'set' object has no attribute 'find'"
          ]
        }
      ]
    },
    {
      "cell_type": "code",
      "source": [
        "s1.remove(9)"
      ],
      "metadata": {
        "colab": {
          "base_uri": "https://localhost:8080/",
          "height": 165
        },
        "id": "PcxDByBW-MoC",
        "outputId": "f6f9633e-f1b9-4653-e59a-3d016bae2061"
      },
      "execution_count": 90,
      "outputs": [
        {
          "output_type": "error",
          "ename": "KeyError",
          "evalue": "ignored",
          "traceback": [
            "\u001b[0;31m---------------------------------------------------------------------------\u001b[0m",
            "\u001b[0;31mKeyError\u001b[0m                                  Traceback (most recent call last)",
            "\u001b[0;32m<ipython-input-90-7de3fcf4038b>\u001b[0m in \u001b[0;36m<cell line: 1>\u001b[0;34m()\u001b[0m\n\u001b[0;32m----> 1\u001b[0;31m \u001b[0ms1\u001b[0m\u001b[0;34m.\u001b[0m\u001b[0mremove\u001b[0m\u001b[0;34m(\u001b[0m\u001b[0;36m9\u001b[0m\u001b[0;34m)\u001b[0m\u001b[0;34m\u001b[0m\u001b[0;34m\u001b[0m\u001b[0m\n\u001b[0m",
            "\u001b[0;31mKeyError\u001b[0m: 9"
          ]
        }
      ]
    },
    {
      "cell_type": "code",
      "source": [
        "s1.discard(9)"
      ],
      "metadata": {
        "id": "_DK8xovM-QDf"
      },
      "execution_count": 91,
      "outputs": []
    },
    {
      "cell_type": "code",
      "source": [
        "s1={1,2,3,4}\n",
        "s2={4,5,6,7}\n",
        "print(s1.union(s2))"
      ],
      "metadata": {
        "colab": {
          "base_uri": "https://localhost:8080/"
        },
        "id": "J-YvSje4-SPC",
        "outputId": "eda060a9-857c-4860-a797-8913930dbda7"
      },
      "execution_count": 93,
      "outputs": [
        {
          "output_type": "stream",
          "name": "stdout",
          "text": [
            "{1, 2, 3, 4, 5, 6, 7}\n"
          ]
        }
      ]
    },
    {
      "cell_type": "code",
      "source": [
        "print(s1&s2)"
      ],
      "metadata": {
        "colab": {
          "base_uri": "https://localhost:8080/"
        },
        "id": "wk_d_XsZ-isJ",
        "outputId": "248dd31f-ce5e-4e7f-eacc-36dfbbeaf44a"
      },
      "execution_count": 96,
      "outputs": [
        {
          "output_type": "stream",
          "name": "stdout",
          "text": [
            "{4}\n"
          ]
        }
      ]
    },
    {
      "cell_type": "code",
      "source": [
        "print(s1-s2)"
      ],
      "metadata": {
        "colab": {
          "base_uri": "https://localhost:8080/"
        },
        "id": "-5H_79K--tKB",
        "outputId": "f7e7e1e6-687b-4673-a919-3914e7a7f4c9"
      },
      "execution_count": 97,
      "outputs": [
        {
          "output_type": "stream",
          "name": "stdout",
          "text": [
            "{1, 2, 3}\n"
          ]
        }
      ]
    },
    {
      "cell_type": "code",
      "source": [
        "#Dictionaries\n",
        "dict={\"name\":\"Arjun\",\n",
        "      \"phno\":12345677,\n",
        "      \"address\":\"Maharashtra\"}\n",
        "print(dict[\"name\"])"
      ],
      "metadata": {
        "colab": {
          "base_uri": "https://localhost:8080/"
        },
        "id": "YnQ8AAlY-2i-",
        "outputId": "ff65e36b-a809-4fa9-c297-d1d6987f2f05"
      },
      "execution_count": 99,
      "outputs": [
        {
          "output_type": "stream",
          "name": "stdout",
          "text": [
            "Arjun\n"
          ]
        }
      ]
    },
    {
      "cell_type": "code",
      "source": [
        "print(dict.keys())"
      ],
      "metadata": {
        "colab": {
          "base_uri": "https://localhost:8080/"
        },
        "id": "d8G7MSty_onh",
        "outputId": "dd9dac62-f542-4e6f-a10f-90cfc5c74216"
      },
      "execution_count": 100,
      "outputs": [
        {
          "output_type": "stream",
          "name": "stdout",
          "text": [
            "dict_keys(['name', 'phno', 'address'])\n"
          ]
        }
      ]
    },
    {
      "cell_type": "code",
      "source": [
        "print(dict.fromkeys(\"name\",\"phno\"))"
      ],
      "metadata": {
        "colab": {
          "base_uri": "https://localhost:8080/"
        },
        "id": "6-M2ywyWAH6h",
        "outputId": "d81377cd-109e-405e-fdc6-5d7e9b630bf3"
      },
      "execution_count": 102,
      "outputs": [
        {
          "output_type": "stream",
          "name": "stdout",
          "text": [
            "{'n': 'phno', 'a': 'phno', 'm': 'phno', 'e': 'phno'}\n"
          ]
        }
      ]
    },
    {
      "cell_type": "code",
      "source": [
        "company = \"genzeon\"\n",
        "language=\"Python\"\n",
        "people = \"Trainees\"\n",
        "\n",
        "#printing\n",
        "print(\"%s are learning %s at %s\"%(people,language,company))"
      ],
      "metadata": {
        "colab": {
          "base_uri": "https://localhost:8080/"
        },
        "id": "EIbwk_RDAN7j",
        "outputId": "781d46cc-cf14-4296-dacd-fb7977f304af"
      },
      "execution_count": 104,
      "outputs": [
        {
          "output_type": "stream",
          "name": "stdout",
          "text": [
            "Trainees are learning Python at genzeon\n"
          ]
        }
      ]
    },
    {
      "cell_type": "code",
      "source": [
        "#Decision Making:\n",
        "var = 10\n",
        "if var > 0:\n",
        "  print(\"Greater\")\n",
        "\n",
        "else:\n",
        "  print(\"Lesser\")"
      ],
      "metadata": {
        "colab": {
          "base_uri": "https://localhost:8080/"
        },
        "id": "9ytIAIk9CNLI",
        "outputId": "e89edefd-658a-4130-b13f-7bcbaa43a162"
      },
      "execution_count": 105,
      "outputs": [
        {
          "output_type": "stream",
          "name": "stdout",
          "text": [
            "Greater\n"
          ]
        }
      ]
    },
    {
      "cell_type": "code",
      "source": [
        "#Nested if Else\n",
        "age = int(input(\"Enter your age:-\"))\n",
        "ticket =  1000\n",
        "if(age <= 5 ):\n",
        "  if(age == 5):\n",
        "    bill = ticket * 5\n",
        "  \n",
        "  else:\n",
        "   bill=0\n",
        "\n",
        "elif age > 5 and age <= 18:\n",
        "  bill = ticket // 2\n",
        "\n",
        "elif age > 18 and age < 60:\n",
        "  bill = ticket\n",
        "\n",
        "else:\n",
        "  bill = ticket // 10\n",
        "\n",
        "print(bill)"
      ],
      "metadata": {
        "colab": {
          "base_uri": "https://localhost:8080/"
        },
        "id": "24-4JlcqCzxV",
        "outputId": "fc263058-a7b2-4018-8cd0-84d236384ca7"
      },
      "execution_count": 109,
      "outputs": [
        {
          "output_type": "stream",
          "name": "stdout",
          "text": [
            "Enter your age:-6\n",
            "500\n"
          ]
        }
      ]
    },
    {
      "cell_type": "code",
      "source": [
        "#loops\n",
        "#for loops\n",
        "import random\n",
        "\n",
        "my_list=[]\n",
        "for i in range(1,10):\n",
        "  number = random.randrange(0,1000)\n",
        "  my_list.append(number)\n",
        "\n",
        "print(my_list)"
      ],
      "metadata": {
        "colab": {
          "base_uri": "https://localhost:8080/"
        },
        "id": "kwy8ZMnAEBhj",
        "outputId": "1e5a5a9e-b875-4aa6-99fb-8cb684af3ec7"
      },
      "execution_count": 114,
      "outputs": [
        {
          "output_type": "stream",
          "name": "stdout",
          "text": [
            "[417, 65, 455, 52, 35, 685, 908, 926, 74]\n"
          ]
        }
      ]
    },
    {
      "cell_type": "code",
      "source": [
        "for i in range(ord(\"A\"),ord(\"Z\")):\n",
        "  print(chr(i))"
      ],
      "metadata": {
        "colab": {
          "base_uri": "https://localhost:8080/"
        },
        "id": "Bk_hwAXPFqId",
        "outputId": "4f182057-41c3-4d2f-98bf-a6465e80c19e"
      },
      "execution_count": 131,
      "outputs": [
        {
          "output_type": "stream",
          "name": "stdout",
          "text": [
            "A\n",
            "B\n",
            "C\n",
            "D\n",
            "E\n",
            "F\n",
            "G\n",
            "H\n",
            "I\n",
            "J\n",
            "K\n",
            "L\n",
            "M\n",
            "N\n",
            "O\n",
            "P\n",
            "Q\n",
            "R\n",
            "S\n",
            "T\n",
            "U\n",
            "V\n",
            "W\n",
            "X\n",
            "Y\n"
          ]
        }
      ]
    },
    {
      "cell_type": "code",
      "source": [
        "#Control Statement\n",
        "\n",
        "#break\n",
        "# for l in \"arzzoun\":\n",
        "#   if l == \"z\":\n",
        "#     continue\n",
        "#   else:\n",
        "#     print(l)\n",
        "\n",
        "\n",
        "#pass\n",
        "for i in range(0,100):\n",
        "  if i % 5 == 0:\n",
        "    pass\n",
        "  else:\n",
        "    print(i)\n"
      ],
      "metadata": {
        "id": "ShU-RVP0Gjh2"
      },
      "execution_count": null,
      "outputs": []
    },
    {
      "cell_type": "code",
      "source": [],
      "metadata": {
        "id": "f9f1HeM-JGvt"
      },
      "execution_count": null,
      "outputs": []
    }
  ]
}