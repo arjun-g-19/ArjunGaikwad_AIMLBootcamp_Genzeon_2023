{
  "nbformat": 4,
  "nbformat_minor": 0,
  "metadata": {
    "colab": {
      "provenance": [],
      "authorship_tag": "ABX9TyPY1q7sTx/PfUx2xZM59EDn",
      "include_colab_link": true
    },
    "kernelspec": {
      "name": "python3",
      "display_name": "Python 3"
    },
    "language_info": {
      "name": "python"
    }
  },
  "cells": [
    {
      "cell_type": "markdown",
      "metadata": {
        "id": "view-in-github",
        "colab_type": "text"
      },
      "source": [
        "<a href=\"https://colab.research.google.com/github/arjun-g-19/ArjunGaikwad_AIMLBootcamp_Genzeon_2023/blob/main/Assignment1_6_06_2023.ipynb\" target=\"_parent\"><img src=\"https://colab.research.google.com/assets/colab-badge.svg\" alt=\"Open In Colab\"/></a>"
      ]
    },
    {
      "cell_type": "code",
      "execution_count": null,
      "metadata": {
        "colab": {
          "base_uri": "https://localhost:8080/"
        },
        "id": "UeVtkKdhOXa-",
        "outputId": "b020709f-14ad-44f3-d153-e3c4265e511d"
      },
      "outputs": [
        {
          "output_type": "stream",
          "name": "stdout",
          "text": [
            "taawkcbe  tgestrcoeeA\n"
          ]
        }
      ],
      "source": [
        "#A series of characters designated as one object known as a string'[::-1][4::3]\n",
        "print('A series of characters designated as one object known as a string'[::-1][4::3])"
      ]
    },
    {
      "cell_type": "markdown",
      "source": [
        "[::-1] will reverse the string \n",
        "and\n",
        "[4::3] will select the 4th character and every 3rd character from there onwards"
      ],
      "metadata": {
        "id": "WZgTTYDaRPmD"
      }
    },
    {
      "cell_type": "code",
      "source": [
        "print(\"Welcome to python training program\"[3:10][::-1])\n"
      ],
      "metadata": {
        "colab": {
          "base_uri": "https://localhost:8080/"
        },
        "id": "p-CXbMP5Rd8H",
        "outputId": "f96c0560-4728-477c-96e4-d35b5cb03841"
      },
      "execution_count": null,
      "outputs": [
        {
          "output_type": "stream",
          "name": "stdout",
          "text": [
            "ot emoc\n"
          ]
        }
      ]
    },
    {
      "cell_type": "markdown",
      "source": [
        "[3:10] will take start index as 3 and end index as 10 exclusive,[::-1] will reverse the string\n"
      ],
      "metadata": {
        "id": "0l6fJME_R_R4"
      }
    },
    {
      "cell_type": "code",
      "source": [
        "#Code\n",
        "p_phrase = \"was it a car or a cat I saw\"\n",
        "print(p_phrase.upper()[::-1])"
      ],
      "metadata": {
        "colab": {
          "base_uri": "https://localhost:8080/"
        },
        "id": "9sCbOL9aRsK4",
        "outputId": "554ce2f1-d2e0-4927-8016-da5e7ac9ece5"
      },
      "execution_count": null,
      "outputs": [
        {
          "output_type": "stream",
          "name": "stdout",
          "text": [
            "WAS I TAC A RO RAC A TI SAW\n"
          ]
        }
      ]
    },
    {
      "cell_type": "code",
      "source": [
        "#x => number of x's\n",
        "#y => number of y's\n",
        "# x = 2 * y\n",
        "z = int(input(\"No. of Z's:-\"))\n",
        "o = z * 2;\n",
        "\n",
        "str=\"\"\n",
        "while z > 0:\n",
        "  str = str + \"Z\"\n",
        "  z = z - 1\n",
        "\n",
        "while o > 0:\n",
        "  str = str + \"OO\"\n",
        "  o = o - 2\n",
        "\n",
        "print(str)\n"
      ],
      "metadata": {
        "colab": {
          "base_uri": "https://localhost:8080/"
        },
        "id": "FefuQPi7Se45",
        "outputId": "45616153-2411-46e7-ea8c-a1cf3581919e"
      },
      "execution_count": null,
      "outputs": [
        {
          "output_type": "stream",
          "name": "stdout",
          "text": [
            "No. of Z's:-5\n",
            "15\n"
          ]
        }
      ]
    },
    {
      "cell_type": "code",
      "source": [
        "# matrix mutiplication , addition, subtraction\n",
        "\n",
        "rows = 2\n",
        "columns = 2\n",
        "\n",
        "matrix = []\n",
        "\n",
        "for i in range(0,rows):\n",
        "  row = []\n",
        "  for j in range(0, columns):\n",
        "    value = int(input(f\"Enter {i} X {j} element:-\"))\n",
        "    row.append(value)\n",
        "\n",
        "  matrix.append(row)\n",
        "\n",
        "print(matrix)\n"
      ],
      "metadata": {
        "colab": {
          "base_uri": "https://localhost:8080/"
        },
        "id": "dO3dZI-4S2Sl",
        "outputId": "743fd4d9-bf58-4564-ba11-f975471fc403"
      },
      "execution_count": null,
      "outputs": [
        {
          "output_type": "stream",
          "name": "stdout",
          "text": [
            "Enter 0 X 0 element:-10\n",
            "Enter 0 X 1 element:-7\n",
            "Enter 1 X 0 element:-2\n",
            "Enter 1 X 1 element:-13\n",
            "[[10, 7], [2, 13]]\n"
          ]
        }
      ]
    },
    {
      "cell_type": "code",
      "source": [
        "#taking two matrices\n",
        "matrix_1 = []\n",
        "matrix_2 = []\n",
        "\n",
        "rows = 3\n",
        "columns = 3\n",
        "\n",
        "for i in range(rows):\n",
        "  row = []\n",
        "  for j in range(columns):\n",
        "    value = int(input(f\"Enter {i} X {j} value:=\"))\n",
        "    row.append(value)\n",
        "  \n",
        "  matrix_1.append(row)\n",
        "\n",
        "\n",
        "\n",
        "for i in range(rows):\n",
        "  row = []\n",
        "  for j in range(columns):\n",
        "    value = int(input(f\"Enter {i} X {j} value:=\"))\n",
        "    row.append(value)\n",
        "  \n",
        "  matrix_2.append(row)\n",
        "\n",
        "print(matrix_1)\n",
        "print(matrix_2)"
      ],
      "metadata": {
        "colab": {
          "base_uri": "https://localhost:8080/"
        },
        "id": "a2AiI_J5Vbl-",
        "outputId": "8b6f16ee-db5d-4e2c-ba9b-ace0b02bb606"
      },
      "execution_count": null,
      "outputs": [
        {
          "output_type": "stream",
          "name": "stdout",
          "text": [
            "Enter 0 X 0 value:=1\n",
            "Enter 0 X 1 value:=2\n",
            "Enter 0 X 2 value:=3\n",
            "Enter 1 X 0 value:=4\n",
            "Enter 1 X 1 value:=5\n",
            "Enter 1 X 2 value:=6\n",
            "Enter 2 X 0 value:=7\n",
            "Enter 2 X 1 value:=8\n",
            "Enter 2 X 2 value:=9\n",
            "Enter 0 X 0 value:=9\n",
            "Enter 0 X 1 value:=8\n",
            "Enter 0 X 2 value:=7\n",
            "Enter 1 X 0 value:=6\n",
            "Enter 1 X 1 value:=5\n",
            "Enter 1 X 2 value:=4\n",
            "Enter 2 X 0 value:=3\n",
            "Enter 2 X 1 value:=2\n",
            "Enter 2 X 2 value:=1\n",
            "[[1, 2, 3], [4, 5, 6], [7, 8, 9]]\n",
            "[[9, 8, 7], [6, 5, 4], [3, 2, 1]]\n"
          ]
        }
      ]
    },
    {
      "cell_type": "code",
      "source": [
        "#Matrix Addition\n",
        "\n",
        "matrix_add = []\n",
        "\n",
        "for i in range(rows):\n",
        "  row = []\n",
        "  for j in range(columns):\n",
        "    value = matrix_1[i][j] + matrix_2[i][j]\n",
        "    row.append(value)\n",
        "\n",
        "  matrix_add.append(row)\n",
        "\n",
        "print(matrix_add)"
      ],
      "metadata": {
        "colab": {
          "base_uri": "https://localhost:8080/"
        },
        "id": "f2aInPR3ou5h",
        "outputId": "ccc00a8d-ef18-419c-a925-2f6254629765"
      },
      "execution_count": null,
      "outputs": [
        {
          "output_type": "stream",
          "name": "stdout",
          "text": [
            "[[10, 10, 10], [10, 10, 10], [10, 10, 10]]\n"
          ]
        }
      ]
    },
    {
      "cell_type": "code",
      "source": [
        "#Matrix Subtraction\n",
        "matrix_sub = []\n",
        "\n",
        "for i in range(rows):\n",
        "  row = []\n",
        "  for j in range(columns):\n",
        "    value = matrix_1[i][j] - matrix_2[i][j]\n",
        "    row.append(value)\n",
        "\n",
        "  matrix_sub.append(row)\n",
        "\n",
        "print(matrix_sub)\n"
      ],
      "metadata": {
        "colab": {
          "base_uri": "https://localhost:8080/"
        },
        "id": "rp6HDrmnpHLy",
        "outputId": "37750c9a-2442-4b16-8690-29624610d6a3"
      },
      "execution_count": null,
      "outputs": [
        {
          "output_type": "stream",
          "name": "stdout",
          "text": [
            "[[-8, -6, -4], [-2, 0, 2], [4, 6, 8]]\n"
          ]
        }
      ]
    },
    {
      "cell_type": "code",
      "source": [
        "#Matrix Multiplication\n",
        "rows = 2\n",
        "columns = 2\n",
        "\n",
        "matrix_a = []\n",
        "\n",
        "for i in range(0,rows):\n",
        "  row = []\n",
        "  for j in range(0, columns):\n",
        "    value = int(input(f\"Enter {i} X {j} element:-\"))\n",
        "    row.append(value)\n",
        "\n",
        "  matrix_a.append(row)\n",
        "\n",
        "print(matrix_a)\n",
        "\n",
        "matrix_b = []\n",
        "\n",
        "for i in range(0,rows):\n",
        "  row = []\n",
        "  for j in range(0, columns):\n",
        "    value = int(input(f\"Enter {i} X {j} element:-\"))\n",
        "    row.append(value)\n",
        "\n",
        "  matrix_b.append(row)\n",
        "\n",
        "print(matrix_b)"
      ],
      "metadata": {
        "colab": {
          "base_uri": "https://localhost:8080/"
        },
        "id": "pt3nQqZCsUdQ",
        "outputId": "40a8a69d-7051-416b-ef79-dee72d96780c"
      },
      "execution_count": null,
      "outputs": [
        {
          "output_type": "stream",
          "name": "stdout",
          "text": [
            "Enter 0 X 0 element:-2\n",
            "Enter 0 X 1 element:-3\n",
            "Enter 1 X 0 element:-4\n",
            "Enter 1 X 1 element:-5\n",
            "[[2, 3], [4, 5]]\n",
            "Enter 0 X 0 element:-5\n",
            "Enter 0 X 1 element:-6\n",
            "Enter 1 X 0 element:-7\n",
            "Enter 1 X 1 element:-8\n",
            "[[5, 6], [7, 8]]\n"
          ]
        }
      ]
    },
    {
      "cell_type": "code",
      "source": [
        "matrix_multiply = []\n",
        "\n",
        "for i in range(rows): \n",
        "  for j in range(columns):\n",
        "    for element in range(columns):\n",
        "      matrix_multiply[i][j] += matrix_a[i][element] * matrix_b[element][j]\n",
        "    \n",
        "  \n",
        "\n",
        "print(matrix_multiply)\n"
      ],
      "metadata": {
        "colab": {
          "base_uri": "https://localhost:8080/",
          "height": 235
        },
        "id": "5iEKe8sOtNeh",
        "outputId": "935f2c82-97ce-4ec3-b079-48e4865a2dc3"
      },
      "execution_count": null,
      "outputs": [
        {
          "output_type": "error",
          "ename": "IndexError",
          "evalue": "ignored",
          "traceback": [
            "\u001b[0;31m---------------------------------------------------------------------------\u001b[0m",
            "\u001b[0;31mIndexError\u001b[0m                                Traceback (most recent call last)",
            "\u001b[0;32m<ipython-input-21-3d386acaeef0>\u001b[0m in \u001b[0;36m<cell line: 3>\u001b[0;34m()\u001b[0m\n\u001b[1;32m      4\u001b[0m   \u001b[0;32mfor\u001b[0m \u001b[0mj\u001b[0m \u001b[0;32min\u001b[0m \u001b[0mrange\u001b[0m\u001b[0;34m(\u001b[0m\u001b[0mcolumns\u001b[0m\u001b[0;34m)\u001b[0m\u001b[0;34m:\u001b[0m\u001b[0;34m\u001b[0m\u001b[0;34m\u001b[0m\u001b[0m\n\u001b[1;32m      5\u001b[0m     \u001b[0;32mfor\u001b[0m \u001b[0melement\u001b[0m \u001b[0;32min\u001b[0m \u001b[0mrange\u001b[0m\u001b[0;34m(\u001b[0m\u001b[0mcolumns\u001b[0m\u001b[0;34m)\u001b[0m\u001b[0;34m:\u001b[0m\u001b[0;34m\u001b[0m\u001b[0;34m\u001b[0m\u001b[0m\n\u001b[0;32m----> 6\u001b[0;31m       \u001b[0mmatrix_multiply\u001b[0m\u001b[0;34m[\u001b[0m\u001b[0mi\u001b[0m\u001b[0;34m]\u001b[0m\u001b[0;34m[\u001b[0m\u001b[0mj\u001b[0m\u001b[0;34m]\u001b[0m \u001b[0;34m+=\u001b[0m \u001b[0mmatrix_a\u001b[0m\u001b[0;34m[\u001b[0m\u001b[0mi\u001b[0m\u001b[0;34m]\u001b[0m\u001b[0;34m[\u001b[0m\u001b[0melement\u001b[0m\u001b[0;34m]\u001b[0m \u001b[0;34m*\u001b[0m \u001b[0mmatrix_b\u001b[0m\u001b[0;34m[\u001b[0m\u001b[0melement\u001b[0m\u001b[0;34m]\u001b[0m\u001b[0;34m[\u001b[0m\u001b[0mj\u001b[0m\u001b[0;34m]\u001b[0m\u001b[0;34m\u001b[0m\u001b[0;34m\u001b[0m\u001b[0m\n\u001b[0m\u001b[1;32m      7\u001b[0m \u001b[0;34m\u001b[0m\u001b[0m\n\u001b[1;32m      8\u001b[0m \u001b[0;34m\u001b[0m\u001b[0m\n",
            "\u001b[0;31mIndexError\u001b[0m: list index out of range"
          ]
        }
      ]
    },
    {
      "cell_type": "code",
      "source": [
        "arr = [2,3,6,6,5,8]\n",
        "maximum = -1\n",
        "second_max = -1\n",
        "for i in arr:\n",
        "  if i > maximum:\n",
        "    second_max = maximum\n",
        "    maximum = i\n",
        "\n",
        "  elif i < maximum and i > second_max:\n",
        "    second_max = i\n",
        "\n",
        "  else:\n",
        "    continue\n",
        "\n",
        "print(second_max)"
      ],
      "metadata": {
        "colab": {
          "base_uri": "https://localhost:8080/"
        },
        "id": "IpMIUMF7wU0q",
        "outputId": "b8a0ee38-fd0c-40ff-b7a8-df84bda533d2"
      },
      "execution_count": null,
      "outputs": [
        {
          "output_type": "stream",
          "name": "stdout",
          "text": [
            "6\n"
          ]
        }
      ]
    },
    {
      "cell_type": "code",
      "source": [
        "#Convert decimal to octal, binary, hexadecimal\n",
        "\n",
        "decimal_input = int(input(\"Enter decimal number:-\"))\n",
        "\n",
        "binary_value = bin(decimal_input)\n",
        "print(binary_value[2::],\" binary equivalent of \", decimal_input)\n",
        "\n",
        "octal_value = oct(decimal_input)\n",
        "print(octal_value[2::],\" octal equivalent of \", decimal_input)\n",
        "\n",
        "hexadecimal_value = hex(decimal_input)\n",
        "print(hexadecimal_value[2::],\" hexadecimal value of \",decimal_input)\n"
      ],
      "metadata": {
        "id": "CaoxtLNl4YVx",
        "colab": {
          "base_uri": "https://localhost:8080/"
        },
        "outputId": "4f82914b-c57a-4da9-920d-80b3fb811831"
      },
      "execution_count": 9,
      "outputs": [
        {
          "output_type": "stream",
          "name": "stdout",
          "text": [
            "Enter decimal number:-19\n",
            "10011  binary equivalent of  19\n",
            "23  binary equivalent of  19\n",
            "13  hexadecimal value of  19\n"
          ]
        }
      ]
    },
    {
      "cell_type": "code",
      "source": [
        "#Dictionaries methods\n",
        "user_dict = {\n",
        "    \"name\" : \"Arjun\",\n",
        "    \"city\" : \"Mumbai\",\n",
        "    \"aadhar_card\" : \"668836362121\",\n",
        "    \"dob\" : \"19/09/1992\"\n",
        "}\n",
        "\n",
        "print(user_dict[\"dob\"])"
      ],
      "metadata": {
        "colab": {
          "base_uri": "https://localhost:8080/"
        },
        "id": "-_P3gKcQVe6p",
        "outputId": "ed8b83cb-9628-44b4-baf7-1a9d787f6f07"
      },
      "execution_count": 10,
      "outputs": [
        {
          "output_type": "stream",
          "name": "stdout",
          "text": [
            "19/09/1992\n"
          ]
        }
      ]
    },
    {
      "cell_type": "code",
      "source": [
        "for i in user_dict.keys():\n",
        "  print(typeof(user_dict.get(i)))"
      ],
      "metadata": {
        "colab": {
          "base_uri": "https://localhost:8080/",
          "height": 183
        },
        "id": "w70JIKxYZxoq",
        "outputId": "c929eab2-2165-4fb5-bd81-958b8a5320de"
      },
      "execution_count": 14,
      "outputs": [
        {
          "output_type": "error",
          "ename": "NameError",
          "evalue": "ignored",
          "traceback": [
            "\u001b[0;31m---------------------------------------------------------------------------\u001b[0m",
            "\u001b[0;31mNameError\u001b[0m                                 Traceback (most recent call last)",
            "\u001b[0;32m<ipython-input-14-2d369ad8ee7d>\u001b[0m in \u001b[0;36m<cell line: 1>\u001b[0;34m()\u001b[0m\n\u001b[1;32m      1\u001b[0m \u001b[0;32mfor\u001b[0m \u001b[0mi\u001b[0m \u001b[0;32min\u001b[0m \u001b[0muser_dict\u001b[0m\u001b[0;34m.\u001b[0m\u001b[0mkeys\u001b[0m\u001b[0;34m(\u001b[0m\u001b[0;34m)\u001b[0m\u001b[0;34m:\u001b[0m\u001b[0;34m\u001b[0m\u001b[0;34m\u001b[0m\u001b[0m\n\u001b[0;32m----> 2\u001b[0;31m   \u001b[0mprint\u001b[0m\u001b[0;34m(\u001b[0m\u001b[0mtypeof\u001b[0m\u001b[0;34m(\u001b[0m\u001b[0muser_dict\u001b[0m\u001b[0;34m.\u001b[0m\u001b[0mget\u001b[0m\u001b[0;34m(\u001b[0m\u001b[0mi\u001b[0m\u001b[0;34m)\u001b[0m\u001b[0;34m)\u001b[0m\u001b[0;34m)\u001b[0m\u001b[0;34m\u001b[0m\u001b[0;34m\u001b[0m\u001b[0m\n\u001b[0m",
            "\u001b[0;31mNameError\u001b[0m: name 'typeof' is not defined"
          ]
        }
      ]
    },
    {
      "cell_type": "code",
      "source": [
        "user_dict.update({\"name\" : \"Gaikwad\"})"
      ],
      "metadata": {
        "id": "AZ6BkeELZ6OW"
      },
      "execution_count": 17,
      "outputs": []
    },
    {
      "cell_type": "code",
      "source": [
        "user_dict[\"name\"]\n",
        "user_dict[\"name\"] = \"Gaikwad-Patil\""
      ],
      "metadata": {
        "id": "0OqCFYX5a9Hm"
      },
      "execution_count": 19,
      "outputs": []
    },
    {
      "cell_type": "code",
      "source": [
        "user_dict[\"name\"]"
      ],
      "metadata": {
        "colab": {
          "base_uri": "https://localhost:8080/",
          "height": 35
        },
        "id": "yErrjjYqbPsl",
        "outputId": "2ed16aa2-1698-4f25-a4b5-a800129591f3"
      },
      "execution_count": 20,
      "outputs": [
        {
          "output_type": "execute_result",
          "data": {
            "text/plain": [
              "'Gaikwad-Patil'"
            ],
            "application/vnd.google.colaboratory.intrinsic+json": {
              "type": "string"
            }
          },
          "metadata": {},
          "execution_count": 20
        }
      ]
    },
    {
      "cell_type": "code",
      "source": [
        "user_dict[\"name\"] = \"Gaikwad-Patil\""
      ],
      "metadata": {
        "id": "psFK1FOobjqm"
      },
      "execution_count": 21,
      "outputs": []
    },
    {
      "cell_type": "code",
      "source": [
        "#pop(), del(), clear()\n",
        "\n",
        "user_dict.pop(\"city\")\n",
        "print(user_dict)"
      ],
      "metadata": {
        "colab": {
          "base_uri": "https://localhost:8080/"
        },
        "id": "oJxkYManbstR",
        "outputId": "1e7b52d3-d9da-42ee-e0f3-f17b5ccc39b1"
      },
      "execution_count": 22,
      "outputs": [
        {
          "output_type": "stream",
          "name": "stdout",
          "text": [
            "{'name': 'Gaikwad-Patil', 'aadhar_card': '668836362121', 'dob': '19/09/1992'}\n"
          ]
        }
      ]
    },
    {
      "cell_type": "code",
      "source": [
        "print(user_dict[1::])"
      ],
      "metadata": {
        "colab": {
          "base_uri": "https://localhost:8080/",
          "height": 166
        },
        "id": "mh_J01nQdka_",
        "outputId": "9a5f0cfb-6618-4a63-abba-a0868e525c57"
      },
      "execution_count": 23,
      "outputs": [
        {
          "output_type": "error",
          "ename": "TypeError",
          "evalue": "ignored",
          "traceback": [
            "\u001b[0;31m---------------------------------------------------------------------------\u001b[0m",
            "\u001b[0;31mTypeError\u001b[0m                                 Traceback (most recent call last)",
            "\u001b[0;32m<ipython-input-23-aa8ddfa9951b>\u001b[0m in \u001b[0;36m<cell line: 1>\u001b[0;34m()\u001b[0m\n\u001b[0;32m----> 1\u001b[0;31m \u001b[0mprint\u001b[0m\u001b[0;34m(\u001b[0m\u001b[0muser_dict\u001b[0m\u001b[0;34m[\u001b[0m\u001b[0;36m1\u001b[0m\u001b[0;34m:\u001b[0m\u001b[0;34m:\u001b[0m\u001b[0;34m]\u001b[0m\u001b[0;34m)\u001b[0m\u001b[0;34m\u001b[0m\u001b[0;34m\u001b[0m\u001b[0m\n\u001b[0m",
            "\u001b[0;31mTypeError\u001b[0m: unhashable type: 'slice'"
          ]
        }
      ]
    },
    {
      "cell_type": "code",
      "source": [],
      "metadata": {
        "id": "7_jDXzL9dqr6"
      },
      "execution_count": null,
      "outputs": []
    }
  ]
}